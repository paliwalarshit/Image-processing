{
 "cells": [
  {
   "cell_type": "code",
   "execution_count": 1,
   "metadata": {},
   "outputs": [],
   "source": [
    "import cv2  #cv2 is used for image processing"
   ]
  },
  {
   "cell_type": "code",
   "execution_count": 2,
   "metadata": {},
   "outputs": [],
   "source": [
    "photo= cv2.imread(\"asphalt_9.jpg\")  #reading image and storing in variable i.e. photo"
   ]
  },
  {
   "cell_type": "code",
   "execution_count": 3,
   "metadata": {},
   "outputs": [
    {
     "data": {
      "text/plain": [
       "array([[[ 34,  15,   2],\n",
       "        [ 37,  18,   5],\n",
       "        [ 38,  19,   6],\n",
       "        ...,\n",
       "        [ 35,  16,   8],\n",
       "        [ 35,  16,   8],\n",
       "        [ 35,  16,   8]],\n",
       "\n",
       "       [[ 35,  16,   3],\n",
       "        [ 37,  18,   5],\n",
       "        [ 38,  19,   6],\n",
       "        ...,\n",
       "        [ 35,  16,   8],\n",
       "        [ 35,  16,   8],\n",
       "        [ 35,  16,   8]],\n",
       "\n",
       "       [[ 37,  18,   5],\n",
       "        [ 37,  18,   5],\n",
       "        [ 38,  18,   7],\n",
       "        ...,\n",
       "        [ 36,  17,   9],\n",
       "        [ 36,  17,   9],\n",
       "        [ 36,  17,   9]],\n",
       "\n",
       "       ...,\n",
       "\n",
       "       [[ 34,  45,  49],\n",
       "        [ 34,  45,  49],\n",
       "        [ 35,  46,  50],\n",
       "        ...,\n",
       "        [108, 141, 167],\n",
       "        [108, 141, 167],\n",
       "        [107, 140, 166]],\n",
       "\n",
       "       [[ 34,  45,  49],\n",
       "        [ 34,  45,  49],\n",
       "        [ 35,  46,  50],\n",
       "        ...,\n",
       "        [105, 138, 164],\n",
       "        [105, 138, 164],\n",
       "        [103, 136, 162]],\n",
       "\n",
       "       [[ 34,  45,  49],\n",
       "        [ 34,  45,  49],\n",
       "        [ 35,  46,  50],\n",
       "        ...,\n",
       "        [101, 134, 160],\n",
       "        [100, 132, 161],\n",
       "        [ 99, 131, 160]]], dtype=uint8)"
      ]
     },
     "execution_count": 3,
     "metadata": {},
     "output_type": "execute_result"
    }
   ],
   "source": [
    "photo #these are the dimention in the photo"
   ]
  },
  {
   "cell_type": "code",
   "execution_count": 4,
   "metadata": {},
   "outputs": [
    {
     "data": {
      "text/plain": [
       "(503, 800, 3)"
      ]
     },
     "execution_count": 4,
     "metadata": {},
     "output_type": "execute_result"
    }
   ],
   "source": [
    "photo.shape  #this is the shape i.e. the whole dimention for the pic"
   ]
  },
  {
   "cell_type": "code",
   "execution_count": null,
   "metadata": {},
   "outputs": [],
   "source": [
    "#this will show up the real image (uncropped)\n",
    "cv2.imshow('Original image',photo)\n",
    "cv2.waitKey()\n",
    "cv2.destroyAllWindows()"
   ]
  },
  {
   "cell_type": "code",
   "execution_count": 5,
   "metadata": {},
   "outputs": [],
   "source": [
    "#for cropping \n",
    "cphoto= photo[110:420,110:675]"
   ]
  },
  {
   "cell_type": "code",
   "execution_count": null,
   "metadata": {},
   "outputs": [],
   "source": [
    "#this will show up the cropped image\n",
    "cv2.imshow('Original image',cphoto)\n",
    "cv2.waitKey()\n",
    "cv2.destroyAllWindows()"
   ]
  },
  {
   "cell_type": "code",
   "execution_count": 6,
   "metadata": {},
   "outputs": [
    {
     "data": {
      "text/plain": [
       "(310, 565, 3)"
      ]
     },
     "execution_count": 6,
     "metadata": {},
     "output_type": "execute_result"
    }
   ],
   "source": [
    "cphoto.shape"
   ]
  },
  {
   "cell_type": "code",
   "execution_count": 7,
   "metadata": {},
   "outputs": [
    {
     "data": {
      "text/plain": [
       "array([[[ 33,  21,  17],\n",
       "        [ 33,  21,  17],\n",
       "        [ 29,  18,  14],\n",
       "        ...,\n",
       "        [ 79,  67,  63],\n",
       "        [ 79,  67,  63],\n",
       "        [ 79,  67,  63]],\n",
       "\n",
       "       [[ 32,  20,  16],\n",
       "        [ 32,  20,  16],\n",
       "        [ 29,  18,  14],\n",
       "        ...,\n",
       "        [ 81,  69,  65],\n",
       "        [ 81,  69,  65],\n",
       "        [ 81,  69,  65]],\n",
       "\n",
       "       [[ 33,  18,  15],\n",
       "        [ 31,  19,  15],\n",
       "        [ 31,  21,  14],\n",
       "        ...,\n",
       "        [ 83,  71,  65],\n",
       "        [ 83,  71,  65],\n",
       "        [ 82,  70,  64]],\n",
       "\n",
       "       ...,\n",
       "\n",
       "       [[ 86,  90, 101],\n",
       "        [ 84,  89,  98],\n",
       "        [ 83,  86,  94],\n",
       "        ...,\n",
       "        [213, 221, 228],\n",
       "        [219, 226, 229],\n",
       "        [220, 225, 228]],\n",
       "\n",
       "       [[ 84,  86,  96],\n",
       "        [ 81,  84,  92],\n",
       "        [ 78,  84,  91],\n",
       "        ...,\n",
       "        [209, 217, 224],\n",
       "        [213, 222, 226],\n",
       "        [214, 220, 225]],\n",
       "\n",
       "       [[ 82,  85,  93],\n",
       "        [ 80,  83,  91],\n",
       "        [ 77,  83,  90],\n",
       "        ...,\n",
       "        [197, 206, 215],\n",
       "        [201, 212, 216],\n",
       "        [201, 211, 218]]], dtype=uint8)"
      ]
     },
     "execution_count": 7,
     "metadata": {},
     "output_type": "execute_result"
    }
   ],
   "source": [
    "cphoto"
   ]
  },
  {
   "cell_type": "code",
   "execution_count": 8,
   "metadata": {},
   "outputs": [],
   "source": [
    "newphoto = cv2.cvtColor( photo ,  cv2.COLOR_BGR2GRAY ) #change the colour of the photo"
   ]
  },
  {
   "cell_type": "code",
   "execution_count": null,
   "metadata": {},
   "outputs": [],
   "source": [
    "#this will show up the Grey Colour image\n",
    "cv2.imshow('Original image',newphoto)\n",
    "cv2.waitKey()\n",
    "cv2.destroyAllWindows()"
   ]
  },
  {
   "cell_type": "code",
   "execution_count": 9,
   "metadata": {},
   "outputs": [],
   "source": [
    "B, G ,R = cv2.split(photo) # split the colour of the photo"
   ]
  },
  {
   "cell_type": "code",
   "execution_count": 10,
   "metadata": {},
   "outputs": [
    {
     "data": {
      "text/plain": [
       "array([[ 34,  37,  38, ...,  35,  35,  35],\n",
       "       [ 35,  37,  38, ...,  35,  35,  35],\n",
       "       [ 37,  37,  38, ...,  36,  36,  36],\n",
       "       ...,\n",
       "       [ 34,  34,  35, ..., 108, 108, 107],\n",
       "       [ 34,  34,  35, ..., 105, 105, 103],\n",
       "       [ 34,  34,  35, ..., 101, 100,  99]], dtype=uint8)"
      ]
     },
     "execution_count": 10,
     "metadata": {},
     "output_type": "execute_result"
    }
   ],
   "source": [
    "B"
   ]
  },
  {
   "cell_type": "code",
   "execution_count": 11,
   "metadata": {},
   "outputs": [
    {
     "data": {
      "text/plain": [
       "array([[ 15,  18,  19, ...,  16,  16,  16],\n",
       "       [ 16,  18,  19, ...,  16,  16,  16],\n",
       "       [ 18,  18,  18, ...,  17,  17,  17],\n",
       "       ...,\n",
       "       [ 45,  45,  46, ..., 141, 141, 140],\n",
       "       [ 45,  45,  46, ..., 138, 138, 136],\n",
       "       [ 45,  45,  46, ..., 134, 132, 131]], dtype=uint8)"
      ]
     },
     "execution_count": 11,
     "metadata": {},
     "output_type": "execute_result"
    }
   ],
   "source": [
    "G"
   ]
  },
  {
   "cell_type": "code",
   "execution_count": 12,
   "metadata": {},
   "outputs": [
    {
     "data": {
      "text/plain": [
       "array([[  2,   5,   6, ...,   8,   8,   8],\n",
       "       [  3,   5,   6, ...,   8,   8,   8],\n",
       "       [  5,   5,   7, ...,   9,   9,   9],\n",
       "       ...,\n",
       "       [ 49,  49,  50, ..., 167, 167, 166],\n",
       "       [ 49,  49,  50, ..., 164, 164, 162],\n",
       "       [ 49,  49,  50, ..., 160, 161, 160]], dtype=uint8)"
      ]
     },
     "execution_count": 12,
     "metadata": {},
     "output_type": "execute_result"
    }
   ],
   "source": [
    "R"
   ]
  },
  {
   "cell_type": "code",
   "execution_count": 18,
   "metadata": {},
   "outputs": [],
   "source": [
    "newpic=cv2.merge([B,B,R]) # you change the intensity of the colour\n"
   ]
  },
  {
   "cell_type": "code",
   "execution_count": 17,
   "metadata": {},
   "outputs": [],
   "source": [
    "#this will show up the Grey Colour image\n",
    "cv2.imshow('Original image',newpic)\n",
    "cv2.waitKey()\n",
    "cv2.destroyAllWindows()"
   ]
  },
  {
   "cell_type": "code",
   "execution_count": 20,
   "metadata": {},
   "outputs": [
    {
     "data": {
      "text/plain": [
       "(503, 800)"
      ]
     },
     "execution_count": 20,
     "metadata": {},
     "output_type": "execute_result"
    }
   ],
   "source": [
    "R.shape  #R is 2d array"
   ]
  },
  {
   "cell_type": "code",
   "execution_count": 22,
   "metadata": {},
   "outputs": [],
   "source": [
    "import numpy as np"
   ]
  },
  {
   "cell_type": "code",
   "execution_count": 23,
   "metadata": {},
   "outputs": [],
   "source": [
    "zeros = np.zeros((503, 800)) "
   ]
  },
  {
   "cell_type": "code",
   "execution_count": 25,
   "metadata": {},
   "outputs": [
    {
     "data": {
      "text/plain": [
       "numpy.ndarray"
      ]
     },
     "execution_count": 25,
     "metadata": {},
     "output_type": "execute_result"
    }
   ],
   "source": [
    "type(B)"
   ]
  },
  {
   "cell_type": "code",
   "execution_count": 26,
   "metadata": {},
   "outputs": [
    {
     "data": {
      "text/plain": [
       "numpy.ndarray"
      ]
     },
     "execution_count": 26,
     "metadata": {},
     "output_type": "execute_result"
    }
   ],
   "source": [
    "type(zeros)"
   ]
  },
  {
   "cell_type": "code",
   "execution_count": 27,
   "metadata": {},
   "outputs": [
    {
     "data": {
      "text/plain": [
       "dtype('uint8')"
      ]
     },
     "execution_count": 27,
     "metadata": {},
     "output_type": "execute_result"
    }
   ],
   "source": [
    "B.dtype"
   ]
  },
  {
   "cell_type": "code",
   "execution_count": 28,
   "metadata": {},
   "outputs": [
    {
     "data": {
      "text/plain": [
       "dtype('float64')"
      ]
     },
     "execution_count": 28,
     "metadata": {},
     "output_type": "execute_result"
    }
   ],
   "source": [
    "zeros.dtype"
   ]
  },
  {
   "cell_type": "code",
   "execution_count": 29,
   "metadata": {},
   "outputs": [],
   "source": [
    "z = zeros.astype('uint8')"
   ]
  },
  {
   "cell_type": "code",
   "execution_count": 30,
   "metadata": {},
   "outputs": [
    {
     "data": {
      "text/plain": [
       "dtype('float64')"
      ]
     },
     "execution_count": 30,
     "metadata": {},
     "output_type": "execute_result"
    }
   ],
   "source": [
    "zeros.dtype"
   ]
  },
  {
   "cell_type": "code",
   "execution_count": 33,
   "metadata": {},
   "outputs": [
    {
     "data": {
      "text/plain": [
       "(503, 800)"
      ]
     },
     "execution_count": 33,
     "metadata": {},
     "output_type": "execute_result"
    }
   ],
   "source": [
    "z.shape"
   ]
  },
  {
   "cell_type": "code",
   "execution_count": 31,
   "metadata": {},
   "outputs": [],
   "source": [
    "new = cv2.merge( [B, G , z] )"
   ]
  },
  {
   "cell_type": "code",
   "execution_count": 32,
   "metadata": {},
   "outputs": [],
   "source": [
    "#this will show up what id there is no green  image\n",
    "cv2.imshow('Original image',new)\n",
    "cv2.waitKey()\n",
    "cv2.destroyAllWindows()"
   ]
  },
  {
   "cell_type": "code",
   "execution_count": null,
   "metadata": {},
   "outputs": [],
   "source": []
  }
 ],
 "metadata": {
  "kernelspec": {
   "display_name": "Python 3",
   "language": "python",
   "name": "python3"
  },
  "language_info": {
   "codemirror_mode": {
    "name": "ipython",
    "version": 3
   },
   "file_extension": ".py",
   "mimetype": "text/x-python",
   "name": "python",
   "nbconvert_exporter": "python",
   "pygments_lexer": "ipython3",
   "version": "3.7.6"
  }
 },
 "nbformat": 4,
 "nbformat_minor": 4
}
